{
 "cells": [
  {
   "cell_type": "code",
   "execution_count": 3,
   "metadata": {},
   "outputs": [],
   "source": [
    "from segmentation_models import Xnet\n",
    "\n",
    "# prepare data\n",
    "# x, y = ... # range in [0,1], the network expects input channels of 3\n",
    "\n",
    "import os\n",
    "import numpy as np\n",
    "from sklearn.model_selection import train_test_split\n",
    "from PIL import Image\n",
    "from tqdm import tqdm"
   ]
  },
  {
   "cell_type": "code",
   "execution_count": 4,
   "metadata": {},
   "outputs": [],
   "source": [
    "base_dir = \"/volumes/gilbert/dataset_rgb/sorted/\"\n",
    "subfolders = [\"salak-1/\", \"salak-1-2/\", \"salak-1-3/\", \"salak-1-4/\", \"salak-2/\", \"salak-3/\"]"
   ]
  },
  {
   "cell_type": "code",
   "execution_count": 5,
   "metadata": {},
   "outputs": [],
   "source": [
    "image_paths = []\n",
    "mask_paths = []\n",
    "for folder in subfolders:\n",
    "    folder_path = os.path.join(base_dir, folder, \"cropped/\")\n",
    "    mask_folder_path = os.path.join(base_dir, folder, \"mask/masks/cropped/\")\n",
    "\n",
    "    # Get list of images and masks in the folder\n",
    "    images = [f for f in os.listdir(folder_path) if f.endswith((\".png\", \".jpg\", \".jpeg\"))]\n",
    "    masks = [f for f in os.listdir(mask_folder_path) if f.endswith((\".png\", \".jpg\", \".jpeg\"))]\n",
    "\n",
    "    # Create a dictionary to easily find masks by base filename\n",
    "    mask_dict = {os.path.splitext(mask)[0]: os.path.join(mask_folder_path, mask) for mask in masks}\n",
    "\n",
    "    # Loop through images and find matching masks\n",
    "    for img_name in images:\n",
    "        img_base = os.path.splitext(img_name)[0]  # Get the base name without extension\n",
    "        image_path = os.path.join(folder_path, img_name)\n",
    "        \n",
    "        # Check if there’s a corresponding mask with the same base name\n",
    "        if img_base in mask_dict:\n",
    "            mask_path = mask_dict[img_base]\n",
    "            image_paths.append(image_path)\n",
    "            mask_paths.append(mask_path)\n"
   ]
  },
  {
   "cell_type": "code",
   "execution_count": 6,
   "metadata": {},
   "outputs": [],
   "source": [
    "# Split dataset into training and validation sets (e.g., 80% train, 20% validation)\n",
    "train_image_paths, test_image_paths, train_mask_paths, test_mask_paths = train_test_split(\n",
    "    image_paths, mask_paths, test_size=0.2, random_state=42\n",
    ")"
   ]
  },
  {
   "cell_type": "code",
   "execution_count": null,
   "metadata": {},
   "outputs": [
    {
     "ename": "",
     "evalue": "",
     "output_type": "error",
     "traceback": [
      "\u001b[1;31mThe Kernel crashed while executing code in the current cell or a previous cell. \n",
      "\u001b[1;31mPlease review the code in the cell(s) to identify a possible cause of the failure. \n",
      "\u001b[1;31mClick <a href='https://aka.ms/vscodeJupyterKernelCrash'>here</a> for more info. \n",
      "\u001b[1;31mView Jupyter <a href='command:jupyter.viewOutput'>log</a> for further details."
     ]
    }
   ],
   "source": [
    "# Function to load images and masks into numpy arrays\n",
    "def load_data(image_paths, mask_paths, img_size=(256, 256)):\n",
    "    x_data = []\n",
    "    y_data = []\n",
    "    for img_path, mask_path in tqdm(zip(image_paths, mask_paths), total=len(image_paths)):\n",
    "        # Load and resize image\n",
    "        image = Image.open(img_path).convert(\"RGB\")\n",
    "        # image = image.resize(img_size)\n",
    "        x_data.append(np.array(image) / 255.0)  # Normalize image to [0, 1]\n",
    "\n",
    "        # Load and resize mask\n",
    "        mask = Image.open(mask_path).convert(\"L\")  # Convert mask to grayscale\n",
    "        # mask = mask.resize(img_size)\n",
    "        mask = np.array(mask) / 255.0  # Normalize mask to [0, 1]\n",
    "        mask = (mask > 0.5).astype(np.float32)  # Binarize mask to 0, 1\n",
    "        y_data.append(mask)\n",
    "\n",
    "    x_data = np.array(x_data).astype(np.float32)  # Shape: (num_samples, H, W, 3)\n",
    "    y_data = np.array(y_data).astype(np.float32)  # Shape: (num_samples, H, W)\n",
    "    y_data = np.expand_dims(y_data, axis=-1)      # Shape to (num_samples, H, W, 1)\n",
    "    return x_data, y_data"
   ]
  },
  {
   "cell_type": "code",
   "execution_count": null,
   "metadata": {},
   "outputs": [
    {
     "name": "stderr",
     "output_type": "stream",
     "text": [
      "  4%|▎         | 10908/297600 [00:51<2:09:12, 36.98it/s]"
     ]
    }
   ],
   "source": [
    "# Load training and validation data\n",
    "x_train, y_train = load_data(train_image_paths, train_mask_paths)\n",
    "x_val, y_val = load_data(train_image_paths, train_mask_paths)\n",
    "\n",
    "print(len(x_train), len(y_train))\n",
    "print(x_train[1], y_train[1])\n",
    "print(len(x_val), len(y_val))\n",
    "print(x_val[1], y_val[1])"
   ]
  },
  {
   "cell_type": "code",
   "execution_count": null,
   "metadata": {},
   "outputs": [],
   "source": [
    "# resnext50, densenet201, densenet201\n",
    "# prepare model\n",
    "# build UNet++\n",
    "model = Xnet(backbone_name='resnext50', encoder_weights='imagenet', decoder_block_type='transpose', input_shape=(256,256,3))"
   ]
  },
  {
   "cell_type": "code",
   "execution_count": null,
   "metadata": {},
   "outputs": [],
   "source": [
    "model.compile('Adam', 'binary_crossentropy', ['binary_accuracy'])"
   ]
  },
  {
   "cell_type": "code",
   "execution_count": null,
   "metadata": {},
   "outputs": [],
   "source": [
    "model.fit(x_train, y_train, validation_data=(x_val, y_val), batch_size=16, epochs=20)"
   ]
  }
 ],
 "metadata": {
  "kernelspec": {
   "display_name": "venv",
   "language": "python",
   "name": "python3"
  },
  "language_info": {
   "codemirror_mode": {
    "name": "ipython",
    "version": 3
   },
   "file_extension": ".py",
   "mimetype": "text/x-python",
   "name": "python",
   "nbconvert_exporter": "python",
   "pygments_lexer": "ipython3",
   "version": "3.12.5"
  }
 },
 "nbformat": 4,
 "nbformat_minor": 2
}
